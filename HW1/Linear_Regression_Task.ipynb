{
  "cells": [
    {
      "cell_type": "code",
      "execution_count": 1,
      "metadata": {
        "id": "h2wMYBEFy_N3"
      },
      "outputs": [],
      "source": [
        "import numpy as np\n",
        "import pandas as pd\n",
        "from sklearn.model_selection import train_test_split\n",
        "from mpl_toolkits.mplot3d import Axes3D\n",
        "import matplotlib.pyplot as plt\n",
        "%matplotlib inline"
      ]
    },
    {
      "cell_type": "code",
      "execution_count": 2,
      "metadata": {
        "id": "GC-3cqJLy_N6"
      },
      "outputs": [],
      "source": [
        "def load_datasets(filename, column_list, target_column):\n",
        "    '''\n",
        "    Читає вхідний файл\n",
        "    \n",
        "    Параметри:\n",
        "    filename - шлях до вхідного файлу з даними\n",
        "    column_list - список назв колонок-характеристик\n",
        "    target_column - назва колонки з цільовою величиною\n",
        "    \n",
        "    Результат:\n",
        "    X - набір характеристик\n",
        "    y - набір передбачуваних величин\n",
        "    '''\n",
        "    \n",
        "    df = pd.read_csv(filename, delimiter=',')\n",
        "    X, y = df[column_list].values, df[target_column].values\n",
        "    return X, y"
      ]
    },
    {
      "cell_type": "code",
      "execution_count": 3,
      "metadata": {
        "id": "KeCLQnyIy_N7"
      },
      "outputs": [],
      "source": [
        "def split_datasets(X, y, test_size = 0.2):\n",
        "    '''\n",
        "    Розбиває дані на 2 датасети: тренувальний та тестувальний.\n",
        "    \n",
        "    Параметри:\n",
        "    X - набір характеристик\n",
        "    y - набір передбачуваних величин\n",
        "    test_size - розмір тестового датасету\n",
        "    \n",
        "    Результат:\n",
        "    X_train - набір тренувальних прикладів\n",
        "    X_test - набір тестових прикладів\n",
        "    y_train - вектор величин, що передбачаємо для тренувального датасету\n",
        "    y_test - вектор величин, що передбачаємо для тестового датасету\n",
        "    '''\n",
        "    X_train, X_test, y_train, y_test = train_test_split(X, y, test_size=test_size)\n",
        "    return X_train, X_test, y_train, y_test"
      ]
    },
    {
      "cell_type": "code",
      "execution_count": 4,
      "metadata": {
        "id": "M6U1jOOpy_N8"
      },
      "outputs": [],
      "source": [
        "def plot_data(X_train, X_test, y_train, y_test):\n",
        "    '''\n",
        "    Функція для відображення розподілу тренувальних та тестових даних (для однієї змінної)\n",
        "    '''\n",
        "    plt.scatter(X_train, y_train, marker='^', c='green')\n",
        "    plt.scatter(X_test, y_test, marker='o', c='red')\n",
        "    plt.show()"
      ]
    },
    {
      "cell_type": "code",
      "execution_count": 5,
      "metadata": {
        "id": "qIUsMBeRy_N8"
      },
      "outputs": [],
      "source": [
        "def normalize(X):\n",
        "    '''\n",
        "    Нормалізує датасет з характеристиками\n",
        "    \n",
        "    Параметри:\n",
        "    X - набір характеристик\n",
        "    \n",
        "    Результат:\n",
        "    X_new - набір нормалізованих характеристик, (X-mean)/std\n",
        "    mean - вектор середніх значень характеристик\n",
        "    std - вектор стандартних девіацій характеристик\n",
        "    '''\n",
        "    ##################\n",
        "    # Заповнити змінні\n",
        "    ##################\n",
        "    mean = np.mean(X)\n",
        "    std = np.std(X)\n",
        "    X_new = (X - mean)/std\n",
        "    return X_new, mean, std"
      ]
    },
    {
      "cell_type": "code",
      "execution_count": 6,
      "metadata": {
        "id": "1NqADYEpy_N9"
      },
      "outputs": [],
      "source": [
        "def prepare_X(X):\n",
        "    '''\n",
        "    Формує датасет з рисами, де першою колонкою буде колонка з одиницями.\n",
        "    \n",
        "    Параметри:\n",
        "    X - вхідний датасет з прикладами, по одному в рядок. Кожна риса - відповідна колонка.\n",
        "    \n",
        "    Результат:\n",
        "    X_new - датасет, який складається з колонки одиниць, а решта колонок з X    \n",
        "    '''\n",
        "    m = X.shape[0]\n",
        "    ones = np.ones((m, 1))\n",
        "    X_new = np.array(X[:])\n",
        "    X_new = np.column_stack((ones, X_new))\n",
        "    return X_new"
      ]
    },
    {
      "cell_type": "code",
      "execution_count": 7,
      "metadata": {
        "id": "b4p-lueOy_N9"
      },
      "outputs": [],
      "source": [
        "def hypothesis(X, theta):\n",
        "    '''\n",
        "    Обчислює значення передбачуваної величини для вхідної матриці X та вектора параметрів thetha.\n",
        "    \n",
        "    Параметри:\n",
        "    X - матриця з рисами. Перша колонка - одиниці. Друга - дані риси.\n",
        "    thetha - вектор параметрів: [thetha0, thetha1]\n",
        "    \n",
        "    Результат:\n",
        "    Матриця значень шуканої величини для прикладів з X\n",
        "    '''\n",
        "    ######################\n",
        "    # Один рядок коду\n",
        "    ######################\n",
        "    h_thetha = np.dot(X, theta)\n",
        "    return h_thetha"
      ]
    },
    {
      "cell_type": "code",
      "execution_count": 8,
      "metadata": {
        "id": "OTHi-oE3y_N-"
      },
      "outputs": [],
      "source": [
        "def cost_function(X, y, theta):\n",
        "    '''\n",
        "    Функція для обчислення штрафної функції J.\n",
        "    \n",
        "    Параметри:\n",
        "    X - тренувальний датасет. 0 - колонка з одиниць, далі - реальні риси\n",
        "    y - точні значення передбачуваної величини\n",
        "    thethe - вектор параметрів регресії\n",
        "    \n",
        "    Результат:\n",
        "    Дійсне число - значення штрафної функції для набору прикладів X та параметрів thetha\n",
        "    '''\n",
        "    m = X.shape[0]\n",
        "    if m == 0:\n",
        "        return None\n",
        "    ######################\n",
        "    # 1-2 рядки коду\n",
        "    ######################\n",
        "    y_hat = hypothesis(X, theta)\n",
        "    J = np.sum((y_hat - y)**2) / (2*m)\n",
        "    return J"
      ]
    },
    {
      "cell_type": "code",
      "execution_count": 9,
      "metadata": {
        "id": "JxBRRWAoy_N_"
      },
      "outputs": [],
      "source": [
        "def derivative(X, y, theta):\n",
        "    m = X.shape[0]\n",
        "    '''\n",
        "    Функція для обчислення похідних штрафної функції J по thetha.\n",
        "    \n",
        "    Параметри:\n",
        "    X - тренувальний датасет. 0 - колонка з одиниць, далі - реальні риси\n",
        "    y - точні значення передбачуваної величини\n",
        "    thetha - вектор параметрів регресії\n",
        "    \n",
        "    Результат:\n",
        "    Вектор похідних d_thetha\n",
        "    '''\n",
        "    ######################\n",
        "    # 1 рядок коду\n",
        "    ######################\n",
        "    d_thetha = np.mean(X * (hypothesis(X, theta) - y).reshape(-1, 1), axis=0)\n",
        "    return d_thetha"
      ]
    },
    {
      "cell_type": "code",
      "execution_count": 10,
      "metadata": {
        "id": "vFuKeEUhy_OA"
      },
      "outputs": [],
      "source": [
        "def gradient_descent(X, y, theta, alpha, num_iters, print_J = True):\n",
        "    '''\n",
        "    Функція, що реалізує градієнтний спуск для метода лінійної регресії.\n",
        "    \n",
        "    Параметри:\n",
        "    X - тренувальний датасет. 0 - колонка з одиниць, далі - реальні риси\n",
        "    y - точні значення передбачуваної величини\n",
        "    thetha - вектор початкових параметрів регресії\n",
        "    alpha - швидкість навчання\n",
        "    num_iters - кількість ітерацій\n",
        "    print_J - виведення штрафної функції на екран після кожної ітерації\n",
        "    \n",
        "    Результат:\n",
        "    theta - оптимальні значення параметрів регресії\n",
        "    J_history - масив історичних значень штрафної функції після кожної ітерації\n",
        "    \n",
        "    \n",
        "    1) J_i (theta_0, theta_1)\n",
        "    2)  theta_0 = theta_0 - alpha*dtheta_0\n",
        "        theta_1 = theta_1 - alpha*dtheta_1\n",
        "        |J_i-J_{i-1}| < eps || num_iters>10000000000 -> break\n",
        "    3) goto 1\n",
        "    '''\n",
        "    m = X.shape[0]\n",
        "    J_history = []\n",
        "    J = cost_function(X, y, theta)\n",
        "    if print_J == True:\n",
        "        print(J)\n",
        "    J_history.append(J)\n",
        "    for i in range(num_iters):\n",
        "        ######################\n",
        "        # Використати написані вище функції\n",
        "        delta = derivative(X, y, theta)\n",
        "        theta = theta - alpha * delta\n",
        "        J = cost_function(X, y, theta)\n",
        "        ######################\n",
        "        if print_J == True:\n",
        "            print(J)\n",
        "        J_history.append(J)\n",
        "    return theta, J_history"
      ]
    },
    {
      "cell_type": "code",
      "execution_count": 11,
      "metadata": {
        "id": "9NbA6j2wy_OB"
      },
      "outputs": [],
      "source": [
        "def plot_J(X, y):\n",
        "    '''\n",
        "    Функція для виведення графіків штрафної функції для різних значень параметрів на вхідних даних\n",
        "    \n",
        "    Параметри:\n",
        "    X - тренувальний датасет. 0 - колонка з одиниць, далі - реальні риси\n",
        "    y - точні значення передбачуваної величини\n",
        "    '''\n",
        "    theta_0 = np.linspace(-20, 20, 100)\n",
        "    theta_1 = np.linspace(-5, 10, 100)\n",
        "    \n",
        "    J_vals = np.zeros((len(theta_0), len(theta_1)))\n",
        "    for i, t0 in enumerate(theta_0):\n",
        "        for j, t1 in enumerate(theta_1):\n",
        "            theta = np.array([t0, t1])\n",
        "            J_vals[i, j] = cost_function(X, y, theta)\n",
        "    \n",
        "    J_vals = J_vals.T\n",
        "    fig = plt.figure()\n",
        "    ax = fig.gca(projection='3d')\n",
        "    ax.plot_surface(theta_0, theta_1, J_vals, color='b')\n",
        "    plt.xlabel('theta_0')\n",
        "    plt.ylabel('theta_1')\n",
        "    plt.title('Surface plot of the cost function')\n",
        "    plt.show()\n",
        "    plt.contour(theta_0, theta_1, J_vals, np.logspace(-2, 3, 20))\n",
        "    plt.xlabel('theta_0')\n",
        "    plt.ylabel('theta_1')\n",
        "    plt.title('Contour plot of the cost function')\n",
        "    plt.show()"
      ]
    },
    {
      "cell_type": "markdown",
      "metadata": {
        "id": "_fgVgABny_OC"
      },
      "source": [
        "## Основний код програми"
      ]
    },
    {
      "cell_type": "markdown",
      "metadata": {
        "id": "5pZ8IN_Ny_OF"
      },
      "source": [
        "Отримання датасетів та видрук їх параметрів."
      ]
    },
    {
      "cell_type": "code",
      "execution_count": 12,
      "metadata": {
        "colab": {
          "base_uri": "https://localhost:8080/"
        },
        "id": "vRca0ffXy_OF",
        "outputId": "a1350271-fd19-46f4-ab25-95a9da343984"
      },
      "outputs": [
        {
          "output_type": "stream",
          "name": "stdout",
          "text": [
            "Dataset: X=(97, 1), y=(97,)\n"
          ]
        }
      ],
      "source": [
        "X, y = load_datasets('burrito.csv', [\"A\"], \"B\")\n",
        "print('Dataset: X={}, y={}'.format(X.shape, y.shape))"
      ]
    },
    {
      "cell_type": "code",
      "execution_count": 13,
      "metadata": {
        "colab": {
          "base_uri": "https://localhost:8080/"
        },
        "id": "Aev-GfS7y_OH",
        "outputId": "e346c09d-c3a1-4e09-a8fe-4c6b912744dd"
      },
      "outputs": [
        {
          "output_type": "execute_result",
          "data": {
            "text/plain": [
              "array([17.592  ,  9.1302 , 13.662  , 11.854  ,  6.8233 , 11.886  ,\n",
              "        4.3483 , 12.     ,  6.5987 ,  3.8166 ,  3.2522 , 15.505  ,\n",
              "        3.1551 ,  7.2258 ,  0.71618,  3.5129 ,  5.3048 ,  0.56077,\n",
              "        3.6518 ,  5.3893 ,  3.1386 , 21.767  ,  4.263  ,  5.1875 ,\n",
              "        3.0825 , 22.638  , 13.501  ,  7.0467 , 14.692  , 24.147  ,\n",
              "       -1.22   ,  5.9966 , 12.134  ,  1.8495 ,  6.5426 ,  4.5623 ,\n",
              "        4.1164 ,  3.3928 , 10.117  ,  5.4974 ,  0.55657,  3.9115 ,\n",
              "        5.3854 ,  2.4406 ,  6.7318 ,  1.0463 ,  5.1337 ,  1.844  ,\n",
              "        8.0043 ,  1.0179 ,  6.7504 ,  1.8396 ,  4.2885 ,  4.9981 ,\n",
              "        1.4233 , -1.4211 ,  2.4756 ,  4.6042 ,  3.9624 ,  5.4141 ,\n",
              "        5.1694 , -0.74279, 17.929  , 12.054  , 17.054  ,  4.8852 ,\n",
              "        5.7442 ,  7.7754 ,  1.0173 , 20.992  ,  6.6799 ,  4.0259 ,\n",
              "        1.2784 ,  3.3411 , -2.6807 ,  0.29678,  3.8845 ,  5.7014 ,\n",
              "        6.7526 ,  2.0576 ,  0.47953,  0.20421,  0.67861,  7.5435 ,\n",
              "        5.3436 ,  4.2415 ,  6.7981 ,  0.92695,  0.152  ,  2.8214 ,\n",
              "        1.8451 ,  4.2959 ,  7.2029 ,  1.9869 ,  0.14454,  9.0551 ,\n",
              "        0.61705])"
            ]
          },
          "metadata": {},
          "execution_count": 13
        }
      ],
      "source": [
        "y"
      ]
    },
    {
      "cell_type": "markdown",
      "metadata": {
        "id": "dQ3RQv8Fy_OI"
      },
      "source": [
        "Розбиття датасету на частини:"
      ]
    },
    {
      "cell_type": "code",
      "execution_count": 14,
      "metadata": {
        "colab": {
          "base_uri": "https://localhost:8080/"
        },
        "id": "G7OrjXYfy_OI",
        "outputId": "67b8dc29-6bf2-4e2a-bedb-781458548ea4"
      },
      "outputs": [
        {
          "output_type": "stream",
          "name": "stdout",
          "text": [
            "Training set: X=(77, 1), y=(77,)\n",
            "Test set: X=(20, 1), y=(20,)\n"
          ]
        }
      ],
      "source": [
        "test_size = 0.2 #0.0\n",
        "X_train, X_test, y_train, y_test = split_datasets(X, y, test_size)\n",
        "print('Training set: X={}, y={}'.format(X_train.shape, y_train.shape))\n",
        "print('Test set: X={}, y={}'.format(X_test.shape, y_test.shape))"
      ]
    },
    {
      "cell_type": "markdown",
      "metadata": {
        "id": "z86gu_Xry_OJ"
      },
      "source": [
        "Відображення тренувальних і тестових даних на графіку (для 1 змінної)"
      ]
    },
    {
      "cell_type": "code",
      "execution_count": 15,
      "metadata": {
        "colab": {
          "base_uri": "https://localhost:8080/",
          "height": 266
        },
        "id": "Kq3N4otOy_OJ",
        "outputId": "fb3211c0-e7aa-4834-e94f-3e9249e1c066"
      },
      "outputs": [
        {
          "output_type": "display_data",
          "data": {
            "text/plain": [
              "<Figure size 432x288 with 1 Axes>"
            ],
            "image/png": "[encoded data removed]"
          },
          "metadata": {
            "needs_background": "light"
          }
        }
      ],
      "source": [
        "plot_data(X_train, X_test, y_train, y_test)"
      ]
    },
    {
      "cell_type": "markdown",
      "metadata": {
        "id": "uQGPxHj3y_OK"
      },
      "source": [
        "Підготовка тренувальних даних (додавання 0-колонки з одиницями). Ініціалізація параметрів регресії (0, 0): "
      ]
    },
    {
      "cell_type": "code",
      "execution_count": 16,
      "metadata": {
        "collapsed": true,
        "id": "fO_NOAG0y_OK"
      },
      "outputs": [],
      "source": [
        "X_train_norm, mean, std = normalize(X_train)\n",
        "X = prepare_X(X_train_norm)\n",
        "theta = np.array([0, 0])"
      ]
    },
    {
      "cell_type": "markdown",
      "metadata": {
        "id": "YrJPNPQly_OK"
      },
      "source": [
        "Для спрощення записів аліас для вектора передбачуваних значень"
      ]
    },
    {
      "cell_type": "code",
      "execution_count": 17,
      "metadata": {
        "collapsed": true,
        "id": "YOzmMsxqy_OL"
      },
      "outputs": [],
      "source": [
        "y = y_train[:]"
      ]
    },
    {
      "cell_type": "markdown",
      "metadata": {
        "id": "pt1Czf1yy_OL"
      },
      "source": [
        "У випадку використання ВСІХ даних для тренування (test_size=0.0), штрафна функція має повернути величину близьку до 32.072."
      ]
    },
    {
      "cell_type": "code",
      "execution_count": 18,
      "metadata": {
        "colab": {
          "base_uri": "https://localhost:8080/"
        },
        "id": "Kwv-8FQMy_OL",
        "outputId": "78d3f05e-c988-428e-9336-d7edf3ca4bb0"
      },
      "outputs": [
        {
          "output_type": "stream",
          "name": "stdout",
          "text": [
            "X: (77, 2)\n",
            "y: (77,)\n",
            "31.83462749618182\n"
          ]
        }
      ],
      "source": [
        "print('X: {}'.format(X.shape))\n",
        "print('y: {}'.format(y.shape))\n",
        "print(cost_function(X, y, theta))"
      ]
    },
    {
      "cell_type": "markdown",
      "metadata": {
        "id": "1NymiqiSy_OM"
      },
      "source": [
        "Налаштування гіперпараметрів регресії: швидкості навчання та кількості ітерацій."
      ]
    },
    {
      "cell_type": "code",
      "execution_count": 19,
      "metadata": {
        "collapsed": true,
        "id": "Ew3M9FD4y_OM"
      },
      "outputs": [],
      "source": [
        "alpha = 0.01\n",
        "num_iters = 1500"
      ]
    },
    {
      "cell_type": "markdown",
      "metadata": {
        "id": "CwrKDIGey_ON"
      },
      "source": [
        "Запуск градієнтного спуску та видрук знайдених оптимальних значень на екран. У випадку використання всіх даних для тренування, результати будуть близькі до Theta 0: 5.84; Theta 1: 4.59"
      ]
    },
    {
      "cell_type": "code",
      "execution_count": 25,
      "metadata": {
        "colab": {
          "base_uri": "https://localhost:8080/"
        },
        "id": "wXdCBsXVy_ON",
        "outputId": "a353602f-c91c-4bb3-bafd-ed89d797ee5c"
      },
      "outputs": [
        {
          "output_type": "stream",
          "name": "stdout",
          "text": [
            "Theta 0: 5.893077549172243; Theta 1: 4.693590246030936\n"
          ]
        }
      ],
      "source": [
        "new_theta, Js = gradient_descent(X, y, theta, alpha, num_iters, False)\n",
        "print('Theta 0: {}; Theta 1: {}'.format(new_theta[0], new_theta[1]))"
      ]
    },
    {
      "cell_type": "code",
      "source": [
        "plt.plot(Js)"
      ],
      "metadata": {
        "colab": {
          "base_uri": "https://localhost:8080/",
          "height": 282
        },
        "id": "FBZfPz9kAUGJ",
        "outputId": "e0b1f2e7-7df5-4943-d147-da5df1010644"
      },
      "execution_count": 26,
      "outputs": [
        {
          "output_type": "execute_result",
          "data": {
            "text/plain": [
              "[<matplotlib.lines.Line2D at 0x7f5db28d5580>]"
            ]
          },
          "metadata": {},
          "execution_count": 26
        },
        {
          "output_type": "display_data",
          "data": {
            "text/plain": [
              "<Figure size 432x288 with 1 Axes>"
            ],
            "image/png": "[encoded data removed]"
          },
          "metadata": {
            "needs_background": "light"
          }
        }
      ]
    },
    {
      "cell_type": "markdown",
      "metadata": {
        "id": "xM76q2Z9y_OO"
      },
      "source": [
        "Відображення штрафної функції як функції від thetha0, thetha1."
      ]
    },
    {
      "cell_type": "code",
      "execution_count": 21,
      "metadata": {
        "colab": {
          "base_uri": "https://localhost:8080/",
          "height": 611
        },
        "id": "xfKK0Fv7y_OO",
        "outputId": "c182cc35-459d-4264-e334-04e98086ebb1"
      },
      "outputs": [
        {
          "output_type": "stream",
          "name": "stderr",
          "text": [
            "<ipython-input-11-e3e3e0da00fd>:20: MatplotlibDeprecationWarning: Calling gca() with keyword arguments was deprecated in Matplotlib 3.4. Starting two minor releases later, gca() will take no keyword arguments. The gca() function should only be used to get the current axes, or if no axes exist, create new axes with default keyword arguments. To create a new axes with non-default arguments, use plt.axes() or plt.subplot().\n",
            "  ax = fig.gca(projection='3d')\n"
          ]
        },
        {
          "output_type": "display_data",
          "data": {
            "text/plain": [
              "<Figure size 432x288 with 1 Axes>"
            ],
            "image/png": "[encoded data removed]"
          },
          "metadata": {
            "needs_background": "light"
          }
        },
        {
          "output_type": "display_data",
          "data": {
            "text/plain": [
              "<Figure size 432x288 with 1 Axes>"
            ],
            "image/png": "[encoded data removed]"
          },
          "metadata": {
            "needs_background": "light"
          }
        }
      ],
      "source": [
        "plot_J(X, y)"
      ]
    },
    {
      "cell_type": "markdown",
      "metadata": {
        "id": "6hkNa_sIy_OO"
      },
      "source": [
        "Відображення знайденої апроксимації разом із тренувальними даними."
      ]
    },
    {
      "cell_type": "code",
      "execution_count": 22,
      "metadata": {
        "colab": {
          "base_uri": "https://localhost:8080/",
          "height": 265
        },
        "id": "9k0aGz0Vy_OO",
        "outputId": "28162fcc-9e74-4123-bf06-7eac84741c89"
      },
      "outputs": [
        {
          "output_type": "display_data",
          "data": {
            "text/plain": [
              "<Figure size 432x288 with 1 Axes>"
            ],
            "image/png": "[encoded data removed]"
          },
          "metadata": {
            "needs_background": "light"
          }
        }
      ],
      "source": [
        "x = np.arange(3, 25, 0.1)\n",
        "x_tr = (x-mean)/std\n",
        "h = new_theta[0] + new_theta[1]*x_tr\n",
        "\n",
        "plt.plot(x_tr, h)\n",
        "plt.scatter(X[:, 1], y_train, marker='x', c='green')\n",
        "\n",
        "plt.show()"
      ]
    },
    {
      "cell_type": "markdown",
      "metadata": {
        "id": "vAQvQf8Iy_OP"
      },
      "source": [
        "Оцінка похибки апроксимації на тестових даних (test_size має бути більше 0.0 та менше 1.0)."
      ]
    },
    {
      "cell_type": "code",
      "execution_count": 23,
      "metadata": {
        "colab": {
          "base_uri": "https://localhost:8080/"
        },
        "id": "4A292uecy_OQ",
        "outputId": "92575d89-3367-4f52-aa5f-b71c2f701037"
      },
      "outputs": [
        {
          "output_type": "stream",
          "name": "stdout",
          "text": [
            "          X  y_actual     y_pred          err\n",
            "0    5.4069   0.55657   2.395409   330.387702\n",
            "1   14.1640  15.50500  12.980026    16.284903\n",
            "2    5.7737   2.44060   2.838756    16.313867\n",
            "3    5.2524  -1.22000   2.208666   281.038218\n",
            "4    9.1802   6.79810   6.956158     2.325030\n",
            "5    5.5277   9.13020   2.541419    72.164700\n",
            "6    5.1301   0.56077   2.060844   267.502454\n",
            "7    6.0020   0.92695   3.114700   236.015977\n",
            "8    9.2482  12.13400   7.038349    41.994818\n",
            "9    5.1077   2.05760   2.033769     1.158201\n",
            "10   5.8918   1.84950   2.981502    61.205866\n",
            "11   5.0594   2.82140   1.975389    29.985499\n",
            "12   6.1101  17.59200   3.245359    81.552072\n",
            "13   5.5204   0.15200   2.532595  1566.180998\n",
            "14   5.1793  -0.74279   2.120311   385.452287\n",
            "15   5.0702   5.13370   1.988443    61.266864\n",
            "16  12.8360  10.11700  11.374886    12.433388\n",
            "17  18.9590  17.05400  18.775693    10.095539\n",
            "18   7.4764   4.34830   4.896792    12.613947\n",
            "19   9.4536   5.41410   7.286614    34.585871\n",
            "8.45112409095776\n"
          ]
        }
      ],
      "source": [
        "####################\n",
        "# Нормалізувати тестовий датасет, використовуючи mean, std з тренувального\n",
        "####################\n",
        "X_test_proc = (X_test - mean)/std\n",
        "X_test_proc = prepare_X(X_test_proc)\n",
        "y_test_pred = hypothesis(X_test_proc, new_theta)\n",
        "rel_diff = np.abs(np.divide(y_test - y_test_pred, y_test)) * 100\n",
        "\n",
        "res = pd.DataFrame({'X' : np.squeeze(X_test), 'y_actual' : y_test, 'y_pred' : y_test_pred, 'err' : rel_diff})\n",
        "print(res)\n",
        "print(cost_function(X_test_proc, y_test, new_theta))"
      ]
    }
  ],
  "metadata": {
    "anaconda-cloud": {},
    "kernelspec": {
      "display_name": "Python 3 (ipykernel)",
      "language": "python",
      "name": "python3"
    },
    "language_info": {
      "codemirror_mode": {
        "name": "ipython",
        "version": 3
      },
      "file_extension": ".py",
      "mimetype": "text/x-python",
      "name": "python",
      "nbconvert_exporter": "python",
      "pygments_lexer": "ipython3",
      "version": "3.8.8"
    },
    "colab": {
      "provenance": []
    }
  },
  "nbformat": 4,
  "nbformat_minor": 0
}